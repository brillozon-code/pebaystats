{
 "cells": [
  {
   "cell_type": "markdown",
   "metadata": {},
   "source": [
    "# Descriptive Statistics Examples from README\n",
    "\n",
    "Here we simply implement the examples included in the README file of the package.\n",
    "---\n",
    "First import the module"
   ]
  },
  {
   "cell_type": "code",
   "execution_count": 1,
   "metadata": {
    "collapsed": false,
    "scrolled": true
   },
   "outputs": [],
   "source": [
    "import pebaystats as pbs"
   ]
  },
  {
   "cell_type": "markdown",
   "metadata": {},
   "source": [
    "---\n",
    "then create some objects with varying parameters.  The ```stats``` object will accumulate only mean and variance values for a single column of data, while the ```stats3``` object will collect 4 statistical moments for 3 columns of data."
   ]
  },
  {
   "cell_type": "code",
   "execution_count": 2,
   "metadata": {
    "collapsed": false
   },
   "outputs": [],
   "source": [
    "stats1 = pbs.dstats(2,1)\n",
    "stats3 = pbs.dstats(4,3)"
   ]
  },
  {
   "cell_type": "markdown",
   "metadata": {},
   "source": [
    "---\n",
    "Add som data to the accumulators.  Note that we do not add the data that we will be removing from the ```stats1```\n",
    "object until the ```remove()``` method has been implemented."
   ]
  },
  {
   "cell_type": "code",
   "execution_count": 3,
   "metadata": {
    "collapsed": false
   },
   "outputs": [],
   "source": [
    "stats1.add(42)\n",
    "#stats1.add(24.5)\n",
    "stats3.add([24.5,23.4,65])\n",
    "stats3.add([24.5,23.4,65])\n",
    "stats3.add([25.4,65,23.4])"
   ]
  },
  {
   "cell_type": "markdown",
   "metadata": {},
   "source": [
    "---\n",
    "Remove some data from the accumulators.  Note that when removing data, while it is possible to remove data elements that were not added, this would be a meaningless operation.\n",
    "\n",
    "Again, the ```remove()``` is not executed until it is implemented."
   ]
  },
  {
   "cell_type": "code",
   "execution_count": 4,
   "metadata": {
    "collapsed": false
   },
   "outputs": [],
   "source": [
    "#stats1.remove(24.5)"
   ]
  },
  {
   "cell_type": "markdown",
   "metadata": {},
   "source": [
    "---\n",
    "Examine the accumulated descriptive statistics for the ```stats1``` object:"
   ]
  },
  {
   "cell_type": "code",
   "execution_count": 5,
   "metadata": {
    "collapsed": false
   },
   "outputs": [
    {
     "name": "stdout",
     "output_type": "stream",
     "text": [
      "Data elements accumulated in stats1: 1\n"
     ]
    },
    {
     "data": {
      "text/plain": [
       "array([[ 42.],\n",
       "       [  0.]])"
      ]
     },
     "execution_count": 5,
     "metadata": {},
     "output_type": "execute_result"
    }
   ],
   "source": [
    "print('Data elements accumulated in stats1: %d' % stats1.n)\n",
    "stats1.statistics(True)"
   ]
  },
  {
   "cell_type": "markdown",
   "metadata": {},
   "source": [
    "---\n",
    "And examine the accumulated descriptive statistics for the ```stats3``` object:"
   ]
  },
  {
   "cell_type": "code",
   "execution_count": 6,
   "metadata": {
    "collapsed": false
   },
   "outputs": [
    {
     "name": "stdout",
     "output_type": "stream",
     "text": [
      "Data elements accumulated in stats3: 3\n"
     ]
    },
    {
     "data": {
      "text/plain": [
       "array([[ 24.8       ,  37.26666667,  51.13333333],\n",
       "       [  0.42426407,  19.61042806,  19.61042806],\n",
       "       [  0.19540667,  61.40667933, -61.40667933],\n",
       "       [ -1.5       ,  -1.5       ,  -1.5       ]])"
      ]
     },
     "execution_count": 6,
     "metadata": {},
     "output_type": "execute_result"
    }
   ],
   "source": [
    "print('Data elements accumulated in stats3: %d' % stats3.n)\n",
    "stats3.statistics(True)"
   ]
  }
 ],
 "metadata": {
  "kernelspec": {
   "display_name": "Python 2",
   "language": "python",
   "name": "python2"
  },
  "language_info": {
   "codemirror_mode": {
    "name": "ipython",
    "version": 2
   },
   "file_extension": ".py",
   "mimetype": "text/x-python",
   "name": "python",
   "nbconvert_exporter": "python",
   "pygments_lexer": "ipython2",
   "version": "2.7.11"
  },
  "widgets": {
   "state": {},
   "version": "1.1.2"
  }
 },
 "nbformat": 4,
 "nbformat_minor": 0
}
