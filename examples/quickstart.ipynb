{
 "cells": [
  {
   "cell_type": "markdown",
   "metadata": {},
   "source": [
    "# Quick Start"
   ]
  },
  {
   "cell_type": "code",
   "execution_count": 1,
   "metadata": {
    "collapsed": true
   },
   "outputs": [],
   "source": [
    "from __future__ import print_function"
   ]
  },
  {
   "cell_type": "markdown",
   "metadata": {},
   "source": [
    "Import the aggregation object from the module."
   ]
  },
  {
   "cell_type": "code",
   "execution_count": 2,
   "metadata": {
    "collapsed": false,
    "scrolled": true
   },
   "outputs": [],
   "source": [
    "from pebaystats import dstats"
   ]
  },
  {
   "cell_type": "markdown",
   "metadata": {},
   "source": [
    "Create a few objects with various depths (number of moments) and widths (number of columns to compute statistics for).  Here the `stats1` and `stats3` objects each accumulate two moments for a single column of data, and the `stats2` object collects 4 statistical moments for 4 columns of data."
   ]
  },
  {
   "cell_type": "code",
   "execution_count": 3,
   "metadata": {
    "collapsed": true
   },
   "outputs": [],
   "source": [
    "stats1 = dstats(2,1)\n",
    "stats2 = dstats(4,4)\n",
    "stats3 = dstats(2,1)"
   ]
  },
  {
   "cell_type": "markdown",
   "metadata": {},
   "source": [
    "Add individual data values to the single column accumulation of the `stats1` object.  Print the object to view its state, which includes the moment values so far accumulated.  Also, print the list of lists returned from the `statistics()` method call.  Here you can see that the mean is 2.0 and the variance is 0.0."
   ]
  },
  {
   "cell_type": "code",
   "execution_count": 4,
   "metadata": {
    "collapsed": false
   },
   "outputs": [
    {
     "name": "stdout",
     "output_type": "stream",
     "text": [
      "stats1: dstats: 2 moments, 1 columns, 3 rows\n",
      "[[ 2.]\n",
      " [ 0.]]\n",
      "statistics: [[ 2.]\n",
      " [ 0.]]\n"
     ]
    }
   ],
   "source": [
    "stats1.add(2)\n",
    "stats1.add(2)\n",
    "stats1.add(2)\n",
    "print('stats1: %s' % stats1)\n",
    "print('statistics: %s' % stats1.statistics())"
   ]
  },
  {
   "cell_type": "markdown",
   "metadata": {},
   "source": [
    "---\n",
    "\n",
    "Add entire rows (multiple columns) of values to the `stats2` object.  View the accumulated results.  Note that when the second moment (`n * Var`) is 0, equivalent to a deviation of 0, the higher moments are left in there initial 0 state.  The higher statistics are set to a `NaN` value in this case."
   ]
  },
  {
   "cell_type": "code",
   "execution_count": 5,
   "metadata": {
    "collapsed": false
   },
   "outputs": [
    {
     "name": "stdout",
     "output_type": "stream",
     "text": [
      "stats2: dstats: 4 moments, 4 columns, 4 rows\n",
      "[[  4.22500000e+00   3.00000000e+00   4.00000000e+00   9.00000000e+00]\n",
      " [  3.47875000e+01   2.00000000e+01   2.00000000e+01   0.00000000e+00]\n",
      " [  6.73818750e+01   7.10542736e-15   7.10542736e-15   0.00000000e+00]\n",
      " [  5.75139658e+02   1.64000000e+02   1.64000000e+02   0.00000000e+00]]\n",
      "statistics: [[  4.22500000e+00   3.00000000e+00   4.00000000e+00   9.00000000e+00]\n",
      " [  2.94904646e+00   2.23606798e+00   2.23606798e+00   0.00000000e+00]\n",
      " [  6.56807734e-01   1.58882186e-16   1.58882186e-16              nan]\n",
      " [ -1.09897921e+00  -1.36000000e+00  -1.36000000e+00              nan]]\n"
     ]
    }
   ],
   "source": [
    "stats2.add([1.2,2,3,9])\n",
    "stats2.add([4.5,6,7,9])\n",
    "stats2.add([8.9,0,1,9])\n",
    "stats2.add([2.3,4,5,9])\n",
    "print('stats2: %s' % stats2)\n",
    "print('statistics: %s' % stats2.statistics(True))"
   ]
  },
  {
   "cell_type": "markdown",
   "metadata": {},
   "source": [
    "---\n",
    "\n",
    "Remove data (*UNIMPLEMENTED*) from the `stats2` object."
   ]
  },
  {
   "cell_type": "code",
   "execution_count": 6,
   "metadata": {
    "collapsed": true
   },
   "outputs": [],
   "source": [
    "# stats2.remove(1.2,2,3,9)"
   ]
  },
  {
   "cell_type": "markdown",
   "metadata": {},
   "source": [
    "---\n",
    "\n",
    "Load the `stats3` object with with data and view the results."
   ]
  },
  {
   "cell_type": "code",
   "execution_count": 7,
   "metadata": {
    "collapsed": false
   },
   "outputs": [
    {
     "name": "stdout",
     "output_type": "stream",
     "text": [
      "stats3: dstats: 2 moments, 1 columns, 3 rows\n",
      "[[ 4.]\n",
      " [ 0.]]\n",
      "statistics: [[ 4.]\n",
      " [ 0.]]\n"
     ]
    }
   ],
   "source": [
    "stats3.add(4)\n",
    "stats3.add(4)\n",
    "stats3.add(4)\n",
    "print('stats3: %s' % stats3)\n",
    "print('statistics: %s' % stats3.statistics())"
   ]
  },
  {
   "cell_type": "markdown",
   "metadata": {},
   "source": [
    "Now aggregate that object onto the first.  This only works when the shapes are the same."
   ]
  },
  {
   "cell_type": "code",
   "execution_count": 8,
   "metadata": {
    "collapsed": false
   },
   "outputs": [
    {
     "name": "stdout",
     "output_type": "stream",
     "text": [
      "stast1: dstats: 2 moments, 1 columns, 6 rows\n",
      "[[ 3.]\n",
      " [ 6.]]\n",
      "statistics: [[ 3.]\n",
      " [ 1.]]\n"
     ]
    }
   ],
   "source": [
    "stats1.aggregate(stats3)\n",
    "print('stast1: %s' % stats1)\n",
    "print('statistics: %s' % stats1.statistics(True))"
   ]
  }
 ],
 "metadata": {
  "kernelspec": {
   "display_name": "Python 2",
   "language": "python",
   "name": "python2"
  },
  "language_info": {
   "codemirror_mode": {
    "name": "ipython",
    "version": 2
   },
   "file_extension": ".py",
   "mimetype": "text/x-python",
   "name": "python",
   "nbconvert_exporter": "python",
   "pygments_lexer": "ipython2",
   "version": "2.7.11"
  },
  "widgets": {
   "state": {},
   "version": "1.1.2"
  }
 },
 "nbformat": 4,
 "nbformat_minor": 0
}
